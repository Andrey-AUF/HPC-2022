{
  "nbformat": 4,
  "nbformat_minor": 0,
  "metadata": {
    "colab": {
      "provenance": [],
      "authorship_tag": "ABX9TyPmjwOgtTAfxYWhOUAqw1E4",
      "include_colab_link": true
    },
    "kernelspec": {
      "name": "python3",
      "display_name": "Python 3"
    },
    "language_info": {
      "name": "python"
    },
    "accelerator": "GPU"
  },
  "cells": [
    {
      "cell_type": "markdown",
      "metadata": {
        "id": "view-in-github",
        "colab_type": "text"
      },
      "source": [
        "<a href=\"https://colab.research.google.com/github/Andrey-AUF/HPC-2022/blob/main/VectorEdition_LR1.ipynb\" target=\"_parent\"><img src=\"https://colab.research.google.com/assets/colab-badge.svg\" alt=\"Open In Colab\"/></a>"
      ]
    },
    {
      "cell_type": "code",
      "execution_count": 2,
      "metadata": {
        "colab": {
          "base_uri": "https://localhost:8080/"
        },
        "id": "GlK_1eUO55ec",
        "outputId": "d4be8f6d-c080-4db7-91a7-62cc39fee4ae"
      },
      "outputs": [
        {
          "output_type": "stream",
          "name": "stdout",
          "text": [
            "Looking in indexes: https://pypi.org/simple, https://us-python.pkg.dev/colab-wheels/public/simple/\n",
            "Collecting git+https://github.com/andreinechaev/nvcc4jupyter.git\n",
            "  Cloning https://github.com/andreinechaev/nvcc4jupyter.git to /tmp/pip-req-build-8jbly6lb\n",
            "  Running command git clone -q https://github.com/andreinechaev/nvcc4jupyter.git /tmp/pip-req-build-8jbly6lb\n",
            "Building wheels for collected packages: NVCCPlugin\n",
            "  Building wheel for NVCCPlugin (setup.py) ... \u001b[?25l\u001b[?25hdone\n",
            "  Created wheel for NVCCPlugin: filename=NVCCPlugin-0.0.2-py3-none-any.whl size=4306 sha256=5bdb5e3726c65a98c160fc9e14ba9c75a7451f02c2c54385fb9bb3dd5bf58702\n",
            "  Stored in directory: /tmp/pip-ephem-wheel-cache-u34bwopj/wheels/ca/33/8d/3c86eb85e97d2b6169d95c6e8f2c297fdec60db6e84cb56f5e\n",
            "Successfully built NVCCPlugin\n",
            "Installing collected packages: NVCCPlugin\n",
            "Successfully installed NVCCPlugin-0.0.2\n"
          ]
        }
      ],
      "source": [
        "!pip install git+https://github.com/andreinechaev/nvcc4jupyter.git\n"
      ]
    },
    {
      "cell_type": "code",
      "source": [
        "%load_ext nvcc_plugin"
      ],
      "metadata": {
        "colab": {
          "base_uri": "https://localhost:8080/"
        },
        "id": "NO3lfR_V6cCA",
        "outputId": "380f8ac5-6dd1-4ec1-cb1e-4ece5d396be2"
      },
      "execution_count": 3,
      "outputs": [
        {
          "output_type": "stream",
          "name": "stdout",
          "text": [
            "created output directory at /content/src\n",
            "Out bin /content/result.out\n"
          ]
        }
      ]
    },
    {
      "cell_type": "code",
      "source": [
        "%%cu\n",
        "#include \"cuda_runtime.h\"\n",
        "#include \"device_launch_parameters.h\"\n",
        "#include <chrono>\n",
        "#include <time.h>\n",
        "#include <stdio.h>\n",
        "#include <stdlib.h>\n",
        "\n",
        "void reductionWithCudaImproved(float* result, const float* input, int SIZE);\n",
        "__global__ void reductionKernelImproved(float* result, const float* input, int SIZE);\n",
        "void reductionCPU(float* result, const float* input, int SIZE);\n",
        "\n",
        "#define TILE 32\n",
        "#define ILP 8\n",
        "#define BLOCK_X_IMPR (TILE / ILP)\n",
        "#define BLOCK_Y_IMPR 32\n",
        "#define BLOCK_COUNT_X_IMPR 100\n",
        "\n",
        "\n",
        "void reductionCPU(float* result, const float* input, int SIZE)\n",
        "{\n",
        "    for (int i = 0; i < SIZE; i++)\n",
        "        *result += input[i];\n",
        "}\n",
        "\n",
        "__global__ void reductionKernelImproved(float* result, const float* input, int SIZE)\n",
        "{\n",
        "    int i;\n",
        "    int col = (blockDim.x * blockIdx.x + threadIdx.x) * ILP;\n",
        "    int row = blockDim.y * blockIdx.y + threadIdx.y;\n",
        "    int index = row * blockDim.x * gridDim.x * ILP + col;\n",
        "    __shared__ float interResult;\n",
        "\n",
        "    if (threadIdx.x == 0 && threadIdx.y == 0)\n",
        "        interResult = 0.0;\n",
        "\n",
        "    __syncthreads();\n",
        "\n",
        "#pragma unroll\n",
        "    for (i = 0; i < ILP; i++)\n",
        "    {\n",
        "        if (index < SIZE)\n",
        "        {\n",
        "            atomicAdd(&interResult, input[index]);\n",
        "            index++;\n",
        "        }\n",
        "    }\n",
        "\n",
        "    __syncthreads();\n",
        "\n",
        "    if (threadIdx.x == 0 && threadIdx.y == 0)\n",
        "        atomicAdd(result, interResult);\n",
        "}\n",
        "\n",
        "void reductionWithCudaImproved(float* result, const float* input, int SIZE)\n",
        "{\n",
        "    dim3 dim_grid, dim_block;\n",
        "\n",
        "    float* dev_input = 0;\n",
        "    float* dev_result = 0;\n",
        "    cudaEvent_t start, stop;\n",
        "    float elapsed = 0;\n",
        "    double gpuBandwidth;\n",
        "\n",
        "    dim_block.x = BLOCK_X_IMPR;\n",
        "    dim_block.y = BLOCK_Y_IMPR;\n",
        "    dim_block.z = 1;\n",
        "\n",
        "    dim_grid.x = BLOCK_COUNT_X_IMPR;\n",
        "    dim_grid.y = (int)ceil((float)SIZE / (float)(TILE * dim_block.y * BLOCK_COUNT_X_IMPR));\n",
        "    dim_grid.z = 1;\n",
        "\n",
        "    cudaSetDevice(0);\n",
        "\n",
        "    cudaMalloc((void**)&dev_input, SIZE * sizeof(float));\n",
        "    cudaMalloc((void**)&dev_result, sizeof(float));\n",
        "    cudaMemcpy(dev_input, input, SIZE * sizeof(float), cudaMemcpyHostToDevice);\n",
        "    cudaMemcpy(dev_result, result, sizeof(float), cudaMemcpyHostToDevice);\n",
        "\n",
        "    cudaEventCreate(&start);\n",
        "    cudaEventCreate(&stop);\n",
        "\n",
        "    cudaEventRecord(start);\n",
        "    reductionKernelImproved << <dim_grid, dim_block >> > (dev_result, dev_input, SIZE);\n",
        "\n",
        "    cudaEventRecord(stop);\n",
        "    cudaEventSynchronize(stop);\n",
        "\n",
        "    cudaEventElapsedTime(&elapsed, start, stop);\n",
        "\n",
        "    printf(\"GPU Time (improved): %f ms\\n\", elapsed);\n",
        "\n",
        "    cudaDeviceSynchronize();\n",
        "\n",
        "    cudaMemcpy(result, dev_result, sizeof(float), cudaMemcpyDeviceToHost);\n",
        "\n",
        "    cudaFree(dev_input);\n",
        "    cudaFree(dev_result);\n",
        "\n",
        "    return;\n",
        "}\n",
        "\n",
        "\n",
        "int main()\n",
        "{\n",
        "    int i,j;\n",
        "    float* input;\n",
        "    float resultCPU, resultGPU;\n",
        "    double cpuTime, cpuBandwidth;\n",
        "    int SIZE;\n",
        "    int a[] = {10,100,1000,10000,100000};\n",
        " for (j = 0; j < 5; ++j) {\n",
        "    SIZE = a[j];\n",
        "    printf(\"Size : %d \\n\", SIZE);\n",
        "    input = (float*)malloc(SIZE * sizeof(float));\n",
        "    resultCPU = 0.0;\n",
        "    resultGPU = 0.0;\n",
        "\n",
        "      \n",
        "    auto start = std::chrono::high_resolution_clock::now();\n",
        "    auto end = std::chrono::high_resolution_clock::now();\n",
        "\n",
        "    for (i = 0; i < SIZE; i++)\n",
        "        input[i] = rand() % 10 - 5;\n",
        "\n",
        "    start = std::chrono::high_resolution_clock::now();\n",
        "    reductionCPU(&resultCPU, input, SIZE);\n",
        "    end = std::chrono::high_resolution_clock::now();\n",
        "\n",
        "    std::chrono::duration<double> diff = end - start;\n",
        "    cpuTime = (diff.count() * 1000);\n",
        "    printf(\"CPU Time: %f ms\\n\", cpuTime);\n",
        "\n",
        "    reductionWithCudaImproved(&resultGPU, input, SIZE);\n",
        " }\n",
        "    return 0;\n",
        " \n",
        "}"
      ],
      "metadata": {
        "colab": {
          "base_uri": "https://localhost:8080/"
        },
        "id": "XhjE6qad6lE0",
        "outputId": "088c8b1b-c824-4a66-9082-d5c24872fce0"
      },
      "execution_count": 44,
      "outputs": [
        {
          "output_type": "stream",
          "name": "stdout",
          "text": [
            "Size : 10 \n",
            "CPU Time: 0.000080 ms\n",
            "GPU Time (improved): 0.069632 ms\n",
            "Size : 100 \n",
            "CPU Time: 0.000404 ms\n",
            "GPU Time (improved): 0.016704 ms\n",
            "Size : 1000 \n",
            "CPU Time: 0.002868 ms\n",
            "GPU Time (improved): 0.015040 ms\n",
            "Size : 10000 \n",
            "CPU Time: 0.028208 ms\n",
            "GPU Time (improved): 0.029120 ms\n",
            "Size : 100000 \n",
            "CPU Time: 0.282546 ms\n",
            "GPU Time (improved): 0.149248 ms\n",
            "\n"
          ]
        }
      ]
    },
    {
      "cell_type": "code",
      "source": [
        "%%cu\n",
        "#include \"cuda_runtime.h\"\n",
        "#include \"device_launch_parameters.h\"\n",
        "#include <chrono>\n",
        "#include <time.h>\n",
        "#include <stdio.h>\n",
        "#include <stdlib.h>\n",
        "int main()\n",
        "{\n",
        "    int i,b;\n",
        "    float* input;\n",
        "    float resultCPU, resultGPU;\n",
        "    double cpuTime, cpuBandwidth;\n",
        "    int SIZE;\n",
        "    int a[] = {1000,2000,3000};\n",
        " for (i = 0; i < 3; ++i) {\n",
        "    SIZE = a[i];\n",
        "    printf(\"Size : %d \\n\", SIZE);\n",
        " }\n",
        " \n",
        " }"
      ],
      "metadata": {
        "colab": {
          "base_uri": "https://localhost:8080/"
        },
        "id": "K5wRY6jMG4QN",
        "outputId": "6e42c03b-a075-4450-a3ef-87b1db2a174a"
      },
      "execution_count": 26,
      "outputs": [
        {
          "output_type": "stream",
          "name": "stdout",
          "text": [
            "Size : 1000 \n",
            "Size : 2000 \n",
            "Size : 3000 \n",
            "\n"
          ]
        }
      ]
    }
  ]
}