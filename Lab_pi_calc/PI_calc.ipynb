{
  "nbformat": 4,
  "nbformat_minor": 0,
  "metadata": {
    "colab": {
      "provenance": []
    },
    "kernelspec": {
      "name": "python3",
      "display_name": "Python 3"
    },
    "language_info": {
      "name": "python"
    },
    "accelerator": "GPU",
    "gpuClass": "standard"
  },
  "cells": [
    {
      "cell_type": "code",
      "execution_count": 1,
      "metadata": {
        "colab": {
          "base_uri": "https://localhost:8080/"
        },
        "id": "_ZppJBEFqDtb",
        "outputId": "9e2ad5cd-90de-4cb6-fa11-831ab3b5e0c7"
      },
      "outputs": [
        {
          "output_type": "stream",
          "name": "stdout",
          "text": [
            "nvcc: NVIDIA (R) Cuda compiler driver\n",
            "Copyright (c) 2005-2021 NVIDIA Corporation\n",
            "Built on Sun_Feb_14_21:12:58_PST_2021\n",
            "Cuda compilation tools, release 11.2, V11.2.152\n",
            "Build cuda_11.2.r11.2/compiler.29618528_0\n"
          ]
        }
      ],
      "source": [
        "!nvcc --version"
      ]
    },
    {
      "cell_type": "code",
      "source": [
        "!pip install git+https://github.com/andreinechaev/nvcc4jupyter.git"
      ],
      "metadata": {
        "colab": {
          "base_uri": "https://localhost:8080/"
        },
        "id": "hrYWAFDFqpmr",
        "outputId": "be274639-c646-4232-b41f-b262a1e290d9"
      },
      "execution_count": 2,
      "outputs": [
        {
          "output_type": "stream",
          "name": "stdout",
          "text": [
            "Looking in indexes: https://pypi.org/simple, https://us-python.pkg.dev/colab-wheels/public/simple/\n",
            "Collecting git+https://github.com/andreinechaev/nvcc4jupyter.git\n",
            "  Cloning https://github.com/andreinechaev/nvcc4jupyter.git to /tmp/pip-req-build-11ac0n65\n",
            "  Running command git clone --filter=blob:none --quiet https://github.com/andreinechaev/nvcc4jupyter.git /tmp/pip-req-build-11ac0n65\n",
            "  Resolved https://github.com/andreinechaev/nvcc4jupyter.git to commit aac710a35f52bb78ab34d2e52517237941399eff\n",
            "  Preparing metadata (setup.py) ... \u001b[?25l\u001b[?25hdone\n",
            "Building wheels for collected packages: NVCCPlugin\n",
            "  Building wheel for NVCCPlugin (setup.py) ... \u001b[?25l\u001b[?25hdone\n",
            "  Created wheel for NVCCPlugin: filename=NVCCPlugin-0.0.2-py3-none-any.whl size=4304 sha256=430702b1ad62622e496390bc23d1fabe6617756155d7cdd5a5f1945e928ef294\n",
            "  Stored in directory: /tmp/pip-ephem-wheel-cache-s5tf1j7m/wheels/f3/08/cc/e2b5b0e1c92df07dbb50a6f024a68ce090f5e7b2316b41756d\n",
            "Successfully built NVCCPlugin\n",
            "Installing collected packages: NVCCPlugin\n",
            "Successfully installed NVCCPlugin-0.0.2\n"
          ]
        }
      ]
    },
    {
      "cell_type": "code",
      "source": [
        "%load_ext nvcc_plugin\n",
        "!nvidia-smi"
      ],
      "metadata": {
        "colab": {
          "base_uri": "https://localhost:8080/"
        },
        "id": "YFSGj0CDqulT",
        "outputId": "89284a3c-e4ae-4f19-ca6e-5a96938d0735"
      },
      "execution_count": 3,
      "outputs": [
        {
          "output_type": "stream",
          "name": "stdout",
          "text": [
            "created output directory at /content/src\n",
            "Out bin /content/result.out\n",
            "Sat Jan  7 14:54:24 2023       \n",
            "+-----------------------------------------------------------------------------+\n",
            "| NVIDIA-SMI 460.32.03    Driver Version: 460.32.03    CUDA Version: 11.2     |\n",
            "|-------------------------------+----------------------+----------------------+\n",
            "| GPU  Name        Persistence-M| Bus-Id        Disp.A | Volatile Uncorr. ECC |\n",
            "| Fan  Temp  Perf  Pwr:Usage/Cap|         Memory-Usage | GPU-Util  Compute M. |\n",
            "|                               |                      |               MIG M. |\n",
            "|===============================+======================+======================|\n",
            "|   0  Tesla T4            Off  | 00000000:00:04.0 Off |                    0 |\n",
            "| N/A   42C    P0    26W /  70W |      0MiB / 15109MiB |      0%      Default |\n",
            "|                               |                      |                  N/A |\n",
            "+-------------------------------+----------------------+----------------------+\n",
            "                                                                               \n",
            "+-----------------------------------------------------------------------------+\n",
            "| Processes:                                                                  |\n",
            "|  GPU   GI   CI        PID   Type   Process name                  GPU Memory |\n",
            "|        ID   ID                                                   Usage      |\n",
            "|=============================================================================|\n",
            "|  No running processes found                                                 |\n",
            "+-----------------------------------------------------------------------------+\n"
          ]
        }
      ]
    },
    {
      "cell_type": "code",
      "source": [
        "%%cu\n",
        "#include \"cuda_runtime.h\"\n",
        "#include \"device_launch_parameters.h\"\n",
        "\n",
        "#include <iostream>\n",
        "#include <stdio.h>\n",
        "#include <ctime>\n",
        "#include <vector>\n",
        "\n",
        "\n",
        "using namespace std;\n",
        "\n",
        "clock_t c_start, c_end;\n",
        "int n = 1024 * 1024 * 32; // Количество точек\n",
        "\n",
        "__global__ void count_pi(float* dev_randX, float* dev_randY, int* dev_threads_num, int n) {   \n",
        "\tint tid = threadIdx.x + blockIdx.x * blockDim.x;                                            \n",
        "\n",
        "\tint cont = 0;\n",
        "\tfor (int i = tid * 128; i < 128 * (tid + 1); i++) {\n",
        "\t\tif (dev_randX[i] * dev_randX[i] + dev_randY[i] * dev_randY[i] < 1.0f) { \n",
        "\t\t\tcont++;\n",
        "\t\t}\n",
        "\t}\n",
        "\tdev_threads_num[tid] = cont;\n",
        "}\n",
        "\n",
        "int main() {\n",
        "\n",
        "\tvector<float> randX(n);                   \n",
        "\tvector<float> randY(n);                  \n",
        "\n",
        "\tsrand((unsigned)time(NULL));              \n",
        "\tfor (int i = 0; i < n; i++) {\n",
        "\t\trandX[i] = float(rand()) / RAND_MAX;    \n",
        "\t\trandY[i] = float(rand()) / RAND_MAX;    \n",
        "\t}\n",
        "\n",
        "\tc_start = clock();                        \n",
        "\tint c_count = 0;                          \n",
        "\tfor (int i = 0; i < n; i++) {\n",
        "\t\tif (randX[i] * randX[i] + randY[i] * randY[i] < 1.0f) { \n",
        "\t\t\tc_count++;                                            \n",
        "\t\t}\n",
        "\t}\n",
        "\tc_end = clock();                                         \n",
        "\tfloat t_cpu = (float)(c_end - c_start) / CLOCKS_PER_SEC; \n",
        "\tfloat c_num = float(c_count) * 4.0 / n;                  \n",
        "\tcout << \"CPU Time\" << endl;                              \n",
        "\tcout << \"PI_value = \" << c_num << endl;\n",
        "\tcout << \"time= \" << t_cpu * 1000 << \" ms\" << endl;\n",
        "\n",
        "\tcudaEvent_t start, stop;\n",
        "\tcudaEventCreate(&start);     \n",
        "\tcudaEventCreate(&stop);\n",
        "\tcudaEventRecord(start, 0);   \n",
        "\n",
        "\tsize_t size = n * sizeof(float);\n",
        "\tfloat* dev_randX;\n",
        "\tfloat* dev_randY;\n",
        "\tcudaMalloc((void**)&dev_randX, size);     \n",
        "\tcudaMalloc((void**)&dev_randY, size);\n",
        "\n",
        "\tcudaMemcpy(dev_randX, &randX.front(), size, cudaMemcpyHostToDevice); \n",
        "\tcudaMemcpy(dev_randY, &randY.front(), size, cudaMemcpyHostToDevice);\n",
        "\n",
        "\tint threadsPerBlock = 512;                                           \n",
        "\tint block_num = n / (128 * threadsPerBlock);\n",
        "\tint* dev_threads_num;\n",
        "\tcudaMalloc((void**)&dev_threads_num, n / 128 * sizeof(int));         \n",
        "\n",
        "\tcount_pi << <block_num, threadsPerBlock >> > (dev_randX, dev_randY, dev_threads_num, n);  \n",
        "\n",
        "\tint* threads_num = new int[n / 128];\n",
        "\tcudaMemcpy(threads_num, dev_threads_num, n / 128 * sizeof(int), cudaMemcpyDeviceToHost);  \n",
        "\n",
        "\tint g_count = 0;\n",
        "\tfor (int i = 0; i < n / 128; i++) {\n",
        "\t\tg_count += threads_num[i];                \n",
        "\t};\n",
        "\n",
        "\tcudaEventRecord(stop, 0);  \n",
        "\tcudaEventSynchronize(stop);\n",
        "\tfloat t_gpu;\n",
        "\tcudaEventElapsedTime(&t_gpu, start, stop);  \n",
        "\tcudaEventDestroy(start);                    \n",
        "\tcudaEventDestroy(stop);                     \n",
        "\n",
        "\tfloat g_num = float(g_count) * 4.0 / n; \n",
        "\tcout << \"GPU Time\" << endl;             \n",
        "  cout << \"PI_value = \" << g_num << endl;\n",
        "\tcout << \"time = \" << t_gpu << \" ms\" << endl;\n",
        "}"
      ],
      "metadata": {
        "colab": {
          "base_uri": "https://localhost:8080/"
        },
        "id": "1T8fOc6Fqz7j",
        "outputId": "1ff9dd14-5a43-4818-cd89-626cf6083393"
      },
      "execution_count": 4,
      "outputs": [
        {
          "output_type": "stream",
          "name": "stdout",
          "text": [
            "CPU Time\n",
            "PI_value = 3.14158\n",
            "time= 458.325 ms\n",
            "GPU Time\n",
            "PI_value = 3.14158\n",
            "time = 69.2399 ms\n",
            "\n"
          ]
        }
      ]
    }
  ]
}